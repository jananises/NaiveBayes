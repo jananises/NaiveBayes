{
 "cells": [
  {
   "cell_type": "markdown",
   "metadata": {},
   "source": [
    "# Naive Bayes for classifying the ham and spam"
   ]
  },
  {
   "cell_type": "code",
   "execution_count": 109,
   "metadata": {},
   "outputs": [],
   "source": [
    "import pandas as pd\n",
    "import numpy as np\n",
    "\n",
    "#Visualization Package\n",
    "import matplotlib.pyplot as plt\n",
    "import seaborn as sns\n",
    "%matplotlib inline\n",
    "\n",
    "#Package for Vectorization of text for feature extraction\n",
    "from sklearn.feature_extraction.text import CountVectorizer,TfidfVectorizer"
   ]
  },
  {
   "cell_type": "code",
   "execution_count": 110,
   "metadata": {},
   "outputs": [
    {
     "data": {
      "text/plain": [
       "(5559, 2)"
      ]
     },
     "execution_count": 110,
     "metadata": {},
     "output_type": "execute_result"
    }
   ],
   "source": [
    "# Loading the data set\n",
    "email_data = pd.read_csv(\"C:/Data Science/Assignments/Naive Bayes/sms_raw_NB.csv\",encoding = \"ISO-8859-1\")\n",
    "email_data.shape"
   ]
  },
  {
   "cell_type": "code",
   "execution_count": 111,
   "metadata": {},
   "outputs": [
    {
     "data": {
      "text/html": [
       "<div>\n",
       "<style scoped>\n",
       "    .dataframe tbody tr th:only-of-type {\n",
       "        vertical-align: middle;\n",
       "    }\n",
       "\n",
       "    .dataframe tbody tr th {\n",
       "        vertical-align: top;\n",
       "    }\n",
       "\n",
       "    .dataframe thead th {\n",
       "        text-align: right;\n",
       "    }\n",
       "</style>\n",
       "<table border=\"1\" class=\"dataframe\">\n",
       "  <thead>\n",
       "    <tr style=\"text-align: right;\">\n",
       "      <th></th>\n",
       "      <th>type</th>\n",
       "      <th>text</th>\n",
       "    </tr>\n",
       "  </thead>\n",
       "  <tbody>\n",
       "    <tr>\n",
       "      <th>0</th>\n",
       "      <td>ham</td>\n",
       "      <td>Hope you are having a good week. Just checking in</td>\n",
       "    </tr>\n",
       "    <tr>\n",
       "      <th>1</th>\n",
       "      <td>ham</td>\n",
       "      <td>K..give back my thanks.</td>\n",
       "    </tr>\n",
       "    <tr>\n",
       "      <th>2</th>\n",
       "      <td>ham</td>\n",
       "      <td>Am also doing in cbe only. But have to pay.</td>\n",
       "    </tr>\n",
       "    <tr>\n",
       "      <th>3</th>\n",
       "      <td>spam</td>\n",
       "      <td>complimentary 4 STAR Ibiza Holiday or å£10,000...</td>\n",
       "    </tr>\n",
       "    <tr>\n",
       "      <th>4</th>\n",
       "      <td>spam</td>\n",
       "      <td>okmail: Dear Dave this is your final notice to...</td>\n",
       "    </tr>\n",
       "  </tbody>\n",
       "</table>\n",
       "</div>"
      ],
      "text/plain": [
       "   type                                               text\n",
       "0   ham  Hope you are having a good week. Just checking in\n",
       "1   ham                            K..give back my thanks.\n",
       "2   ham        Am also doing in cbe only. But have to pay.\n",
       "3  spam  complimentary 4 STAR Ibiza Holiday or å£10,000...\n",
       "4  spam  okmail: Dear Dave this is your final notice to..."
      ]
     },
     "execution_count": 111,
     "metadata": {},
     "output_type": "execute_result"
    }
   ],
   "source": [
    "email_data.head()"
   ]
  },
  {
   "cell_type": "code",
   "execution_count": 151,
   "metadata": {},
   "outputs": [
    {
     "data": {
      "text/plain": [
       "<bound method DataFrame.info of       type                                               text\n",
       "0      ham                hope having good week just checking\n",
       "1      ham                                   give back thanks\n",
       "2      ham                               also doing only have\n",
       "3     spam  complimentary star ibiza holiday cash needs yo...\n",
       "4     spam  okmail dear dave this your final notice collec...\n",
       "...    ...                                                ...\n",
       "5554   ham  great role model giving much really wish each ...\n",
       "5555   ham  awesome remember last time somebody high first...\n",
       "5556  spam  your prize will another customer polo suite lo...\n",
       "5557  spam  jsco energy high know where channel leadership...\n",
       "5558   ham                        shall call dear having food\n",
       "\n",
       "[5559 rows x 2 columns]>"
      ]
     },
     "execution_count": 151,
     "metadata": {},
     "output_type": "execute_result"
    }
   ],
   "source": [
    "email_data.info"
   ]
  },
  {
   "cell_type": "code",
   "execution_count": 27,
   "metadata": {},
   "outputs": [
    {
     "data": {
      "text/plain": [
       "type    object\n",
       "text    object\n",
       "dtype: object"
      ]
     },
     "execution_count": 27,
     "metadata": {},
     "output_type": "execute_result"
    }
   ],
   "source": [
    "email_data.dtypes"
   ]
  },
  {
   "cell_type": "code",
   "execution_count": 112,
   "metadata": {},
   "outputs": [
    {
     "data": {
      "text/plain": [
       "0"
      ]
     },
     "execution_count": 112,
     "metadata": {},
     "output_type": "execute_result"
    }
   ],
   "source": [
    "#Check for Null Values\n",
    "email_data['text'].isnull().sum()"
   ]
  },
  {
   "cell_type": "code",
   "execution_count": 29,
   "metadata": {},
   "outputs": [
    {
     "data": {
      "text/plain": [
       "<matplotlib.axes._subplots.AxesSubplot at 0x99f7bf2648>"
      ]
     },
     "execution_count": 29,
     "metadata": {},
     "output_type": "execute_result"
    },
    {
     "data": {
      "image/png": "[encoded data removed]",
      "text/plain": [
       "<Figure size 432x288 with 1 Axes>"
      ]
     },
     "metadata": {
      "needs_background": "light"
     },
     "output_type": "display_data"
    }
   ],
   "source": [
    "#Plot of Ham and Spam\n",
    "sns.countplot(email_data['type'],label=\"count\")"
   ]
  },
  {
   "cell_type": "code",
   "execution_count": 113,
   "metadata": {},
   "outputs": [],
   "source": [
    "#Cleaning the dataset \n",
    "#import re\n",
    "#stop_words = []\n",
    "#with open(\"C:\\Data Science\\Assignments\\Text Mining\\stop.txt\") as f:\n",
    "#    stop_words = f.read()"
   ]
  },
  {
   "cell_type": "code",
   "execution_count": 114,
   "metadata": {},
   "outputs": [],
   "source": [
    "# splitting the entire string by giving separator as \"\\n\" to get list of \n",
    "# all stop words\n",
    "#stop_words = stop_words.split(\"\\n\")\n",
    "#print(stop_words)"
   ]
  },
  {
   "cell_type": "code",
   "execution_count": 115,
   "metadata": {},
   "outputs": [],
   "source": [
    "#Cleaning the dataset \n",
    "# Removing unwanted symbols incase if exists\n",
    "def cleaning_text(i):\n",
    "    i = re.sub(\"[^A-Za-z\" \"]+\",\" \",i).lower()\n",
    "    i = re.sub(\"[0-9\" \"]+\",\" \",i)\n",
    "    w = []\n",
    "    for word in i.split(\" \"):\n",
    "        if len(word)>3:\n",
    "            w.append(word)\n",
    "    return (\" \".join(w))"
   ]
  },
  {
   "cell_type": "code",
   "execution_count": 122,
   "metadata": {},
   "outputs": [
    {
     "name": "stdout",
     "output_type": "stream",
     "text": [
      "0                     hope having good week just checking\n",
      "1                                        give back thanks\n",
      "2                                    also doing only have\n",
      "3       complimentary star ibiza holiday cash needs yo...\n",
      "4       okmail dear dave this your final notice collec...\n",
      "                              ...                        \n",
      "5554    great role model giving much really wish each ...\n",
      "5555    awesome remember last time somebody high first...\n",
      "5556    your prize will another customer polo suite lo...\n",
      "5557    jsco energy high know where channel leadership...\n",
      "5558                          shall call dear having food\n",
      "Name: text, Length: 5559, dtype: object\n"
     ]
    }
   ],
   "source": [
    "email_data.text = email_data.text.apply(cleaning_text)\n",
    "print(email_data.text)"
   ]
  },
  {
   "cell_type": "code",
   "execution_count": 123,
   "metadata": {},
   "outputs": [],
   "source": [
    "#removing empty rows \n",
    "email_data.shape\n",
    "email_data = email_data.loc[email_data.text != \" \",:]"
   ]
  },
  {
   "cell_type": "code",
   "execution_count": 124,
   "metadata": {},
   "outputs": [
    {
     "name": "stdout",
     "output_type": "stream",
     "text": [
      "0                     hope having good week just checking\n",
      "1                                        give back thanks\n",
      "2                                    also doing only have\n",
      "3       complimentary star ibiza holiday cash needs yo...\n",
      "4       okmail dear dave this your final notice collec...\n",
      "                              ...                        \n",
      "5554    great role model giving much really wish each ...\n",
      "5555    awesome remember last time somebody high first...\n",
      "5556    your prize will another customer polo suite lo...\n",
      "5557    jsco energy high know where channel leadership...\n",
      "5558                          shall call dear having food\n",
      "Name: text, Length: 5559, dtype: object\n"
     ]
    }
   ],
   "source": [
    "email_data.shape\n",
    "print(email_data.text)"
   ]
  },
  {
   "cell_type": "code",
   "execution_count": 128,
   "metadata": {},
   "outputs": [],
   "source": [
    "# creating a matrix of token counts for the entire text document \n",
    "def split_into_words(i):\n",
    "    return [word for word in i.split(\" \")]"
   ]
  },
  {
   "cell_type": "code",
   "execution_count": 131,
   "metadata": {},
   "outputs": [
    {
     "name": "stdout",
     "output_type": "stream",
     "text": [
      "(5559, 6661)\n"
     ]
    },
    {
     "data": {
      "text/plain": [
       "array([[0, 0, 0, ..., 0, 0, 0],\n",
       "       [0, 0, 0, ..., 0, 0, 0],\n",
       "       [0, 0, 0, ..., 0, 0, 0],\n",
       "       ...,\n",
       "       [0, 0, 0, ..., 0, 0, 0],\n",
       "       [0, 0, 0, ..., 0, 0, 0],\n",
       "       [0, 0, 0, ..., 0, 0, 0]], dtype=int64)"
      ]
     },
     "execution_count": 131,
     "metadata": {},
     "output_type": "execute_result"
    }
   ],
   "source": [
    "#Extract Feature with Count Vectorizer\n",
    "# Preparing email texts into word count matrix format \n",
    "df_x = email_data['text']\n",
    "df_y = email_data['type']\n",
    "corpus =df_x\n",
    "# Convert a collection of text documents to a matrix of token counts\n",
    "cv = CountVectorizer(analyzer=split_into_words, stop_words=\"english\")\n",
    "x = cv.fit_transform(corpus)\n",
    "print(x.shape)\n",
    "x.toarray()\n",
    "#cv.get_feature_names()"
   ]
  },
  {
   "cell_type": "code",
   "execution_count": 132,
   "metadata": {},
   "outputs": [],
   "source": [
    "# splitting data into train and test data sets \n",
    "from sklearn.model_selection import train_test_split\n",
    "X_train, X_test, y_train, y_test = train_test_split(x,df_y, test_size=0.3, random_state=42)\n",
    "#X_train"
   ]
  },
  {
   "cell_type": "code",
   "execution_count": 134,
   "metadata": {},
   "outputs": [
    {
     "name": "stdout",
     "output_type": "stream",
     "text": [
      "Naive Bayes train Accuracy: 0.9884348496530455\n",
      "Naive Bayes test accuracy: 0.9586330935251799\n"
     ]
    }
   ],
   "source": [
    "#Model Building\n",
    "#Naive Bayes Classifier\n",
    "from sklearn.naive_bayes import MultinomialNB as MB\n",
    "\n",
    "classifier_mb = MB()\n",
    "classifier_mb.fit(X_train,y_train)\n",
    "\n",
    "y_predict = classifier_mb.predict(X_test)\n",
    "#classifier_mb.score(X_test, y_test)\n",
    "accuracy_test_m = np.mean(y_predict==y_test) \n",
    "\n",
    "train_pred_m = classifier_mb.predict(X_train)\n",
    "accuracy_train_m = np.mean(train_pred_m==y_train) \n",
    "\n",
    "print(\"Naive Bayes train Accuracy:\", accuracy_train_m)  # 98.8%\n",
    "print(\"Naive Bayes test accuracy:\", accuracy_test_m)    # 96%\n"
   ]
  },
  {
   "cell_type": "code",
   "execution_count": 135,
   "metadata": {},
   "outputs": [
    {
     "name": "stdout",
     "output_type": "stream",
     "text": [
      "0.9586330935251799\n",
      "[[1409   48]\n",
      " [  21  190]]\n",
      "              precision    recall  f1-score   support\n",
      "\n",
      "         ham       0.99      0.97      0.98      1457\n",
      "        spam       0.80      0.90      0.85       211\n",
      "\n",
      "    accuracy                           0.96      1668\n",
      "   macro avg       0.89      0.93      0.91      1668\n",
      "weighted avg       0.96      0.96      0.96      1668\n",
      "\n"
     ]
    }
   ],
   "source": [
    "from sklearn import metrics\n",
    "#Print Consuion Metrics and Classification report\n",
    "print(metrics.accuracy_score(y_test,y_predict))\n",
    "print(metrics.confusion_matrix(y_test,y_predict))\n",
    "print(metrics.classification_report(y_test,y_predict))"
   ]
  },
  {
   "cell_type": "code",
   "execution_count": 136,
   "metadata": {},
   "outputs": [
    {
     "data": {
      "text/plain": [
       "array(['ham'], dtype='<U4')"
      ]
     },
     "execution_count": 136,
     "metadata": {},
     "output_type": "execute_result"
    }
   ],
   "source": [
    "#Sample Prediction\n",
    "comment = [\"check this out\"]\n",
    "vect = cv.transform(comment).toarray()\n",
    "classifier_mb.predict(vect)"
   ]
  },
  {
   "cell_type": "code",
   "execution_count": 137,
   "metadata": {},
   "outputs": [
    {
     "data": {
      "text/plain": [
       "array(['spam'], dtype='<U4')"
      ]
     },
     "execution_count": 137,
     "metadata": {},
     "output_type": "execute_result"
    }
   ],
   "source": [
    "#Sample Prediction2\n",
    "comment1 = [\"Great promotional offer $114\"]\n",
    "vect = cv.transform(comment1).toarray()\n",
    "classifier_mb.predict(vect)"
   ]
  },
  {
   "cell_type": "code",
   "execution_count": 138,
   "metadata": {},
   "outputs": [
    {
     "name": "stdout",
     "output_type": "stream",
     "text": [
      "Gaussian NB Train Accuracy: 0.9046517604728862\n",
      "Gaussian NB Test accuracy: 0.8447242206235012\n"
     ]
    }
   ],
   "source": [
    "#Gaussian Naive Bayes Model Building\n",
    "from sklearn.naive_bayes import GaussianNB as GB\n",
    "\n",
    "classifier_gb = GB()\n",
    "# we need to convert tfidf into array format which is compatible for gaussian naive bayes\n",
    "classifier_gb.fit(X_train.toarray(),y_train) \n",
    "y_predictGB = classifier_gb.predict(X_test.toarray())\n",
    "\n",
    "accuracy_test_m = np.mean(y_predictGB==y_test) \n",
    "\n",
    "train_pred_m = classifier_gb.predict(X_train.toarray())\n",
    "accuracy_train_m = np.mean(train_pred_m==y_train) \n",
    "\n",
    "print(\"Gaussian NB Train Accuracy:\", accuracy_train_m)  # 90.5%\n",
    "print(\"Gaussian NB Test accuracy:\", accuracy_test_m)    # 84.5%"
   ]
  },
  {
   "cell_type": "code",
   "execution_count": 139,
   "metadata": {},
   "outputs": [
    {
     "name": "stdout",
     "output_type": "stream",
     "text": [
      "0.8447242206235012\n",
      "[[1223  234]\n",
      " [  25  186]]\n",
      "              precision    recall  f1-score   support\n",
      "\n",
      "         ham       0.98      0.84      0.90      1457\n",
      "        spam       0.44      0.88      0.59       211\n",
      "\n",
      "    accuracy                           0.84      1668\n",
      "   macro avg       0.71      0.86      0.75      1668\n",
      "weighted avg       0.91      0.84      0.86      1668\n",
      "\n"
     ]
    }
   ],
   "source": [
    "#classifier_mb.score(X_test, y_test)\n",
    "print(metrics.accuracy_score(y_test,y_predictGB))\n",
    "print(metrics.confusion_matrix(y_test,y_predictGB))\n",
    "print(metrics.classification_report(y_test,y_predictGB))"
   ]
  },
  {
   "cell_type": "code",
   "execution_count": 149,
   "metadata": {},
   "outputs": [
    {
     "name": "stdout",
     "output_type": "stream",
     "text": [
      "(3891, 6661)\n",
      "(1668, 6661)\n"
     ]
    }
   ],
   "source": [
    "# TfidfTransformer, Transform a count matrix to a normalized tf or tf-idf representation\n",
    "# Term weighting and normalizing on entire emails\n",
    "tfidf_transformer = TfidfTransformer().fit(x)\n",
    "# Preparing TFIDF for train emails\n",
    "train_tfidf = tfidf_transformer.transform(X_train)\n",
    "\n",
    "print(train_tfidf.shape) \n",
    "\n",
    "# Preparing TFIDF for test emails\n",
    "test_tfidf = tfidf_transformer.transform(X_test)\n",
    "\n",
    "print(test_tfidf.shape) "
   ]
  },
  {
   "cell_type": "code",
   "execution_count": 142,
   "metadata": {},
   "outputs": [
    {
     "name": "stdout",
     "output_type": "stream",
     "text": [
      "Multinomial NB train Accuracy: 0.9660755589822668\n",
      "Multinomial NB test accuracy: 0.9508393285371702\n"
     ]
    }
   ],
   "source": [
    "# Multinomial Naive Bayes - Model Building\n",
    "classifier_mb = MB()\n",
    "classifier_mb.fit(train_tfidf,y_train)\n",
    "y_predict = classifier_mb.predict(test_tfidf)\n",
    "accuracy_test_m = np.mean(y_predict==y_test) \n",
    "\n",
    "#classifier_mb.score(X_test, y_test)\n",
    "train_pred_m = classifier_mb.predict(train_tfidf)\n",
    "accuracy_train_m = np.mean(train_pred_m==y_train) \n",
    "\n",
    "\n",
    "print(\"Multinomial NB Tfid - train Accuracy:\", accuracy_train_m)\n",
    "print(\"Multinomial NB Tfid - test accuracy:\", accuracy_test_m)"
   ]
  },
  {
   "cell_type": "code",
   "execution_count": 143,
   "metadata": {},
   "outputs": [
    {
     "name": "stdout",
     "output_type": "stream",
     "text": [
      "0.9508393285371702\n",
      "[[1456    1]\n",
      " [  81  130]]\n",
      "              precision    recall  f1-score   support\n",
      "\n",
      "         ham       0.95      1.00      0.97      1457\n",
      "        spam       0.99      0.62      0.76       211\n",
      "\n",
      "    accuracy                           0.95      1668\n",
      "   macro avg       0.97      0.81      0.87      1668\n",
      "weighted avg       0.95      0.95      0.95      1668\n",
      "\n"
     ]
    }
   ],
   "source": [
    "print(metrics.accuracy_score(y_test,y_predict))\n",
    "print(metrics.confusion_matrix(y_test,y_predict))\n",
    "print(metrics.classification_report(y_test,y_predict))"
   ]
  },
  {
   "cell_type": "code",
   "execution_count": 144,
   "metadata": {},
   "outputs": [],
   "source": [
    "# Gaussian Naive Bayes \n",
    "classifier_gb = GB()\n",
    "classifier_gb.fit(train_tfidf.toarray(),y_train) # we need to convert tfidf into array format which is compatible for gaussian naive bayes\n",
    "train_pred_g = classifier_gb.predict(train_tfidf.toarray())\n",
    "accuracy_train_g = np.mean(train_pred_g==y_train) \n",
    "test_pred_g = classifier_gb.predict(test_tfidf.toarray())\n",
    "accuracy_test_g = np.mean(test_pred_g==y_test) "
   ]
  },
  {
   "cell_type": "code",
   "execution_count": 146,
   "metadata": {},
   "outputs": [
    {
     "name": "stdout",
     "output_type": "stream",
     "text": [
      "Gaussian NB Tfid Train Accuracy: 0.9046517604728862\n",
      "Gaussian NB Tfid Test Accuracy: 0.8393285371702638\n"
     ]
    }
   ],
   "source": [
    "print(\"Gaussian NB Tfid Train Accuracy:\", accuracy_train_g)\n",
    "print(\"Gaussian NB Tfid Test Accuracy:\", accuracy_test_g)"
   ]
  },
  {
   "cell_type": "code",
   "execution_count": 147,
   "metadata": {},
   "outputs": [
    {
     "name": "stdout",
     "output_type": "stream",
     "text": [
      "0.8393285371702638\n",
      "[[1224  233]\n",
      " [  35  176]]\n",
      "              precision    recall  f1-score   support\n",
      "\n",
      "         ham       0.97      0.84      0.90      1457\n",
      "        spam       0.43      0.83      0.57       211\n",
      "\n",
      "    accuracy                           0.84      1668\n",
      "   macro avg       0.70      0.84      0.73      1668\n",
      "weighted avg       0.90      0.84      0.86      1668\n",
      "\n"
     ]
    }
   ],
   "source": [
    "print(metrics.accuracy_score(y_test,test_pred_g))\n",
    "print(metrics.confusion_matrix(y_test,test_pred_g))\n",
    "print(metrics.classification_report(y_test,test_pred_g))"
   ]
  }
 ],
 "metadata": {
  "kernelspec": {
   "display_name": "Python 3",
   "language": "python",
   "name": "python3"
  },
  "language_info": {
   "codemirror_mode": {
    "name": "ipython",
    "version": 3
   },
   "file_extension": ".py",
   "mimetype": "text/x-python",
   "name": "python",
   "nbconvert_exporter": "python",
   "pygments_lexer": "ipython3",
   "version": "3.7.6"
  }
 },
 "nbformat": 4,
 "nbformat_minor": 4
}
